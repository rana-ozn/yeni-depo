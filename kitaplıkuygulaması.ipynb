{
  "nbformat": 4,
  "nbformat_minor": 0,
  "metadata": {
    "colab": {
      "provenance": [],
      "authorship_tag": "ABX9TyM07wfXtc9cbnDZJBqUYuiy",
      "include_colab_link": true
    },
    "kernelspec": {
      "name": "python3",
      "display_name": "Python 3"
    },
    "language_info": {
      "name": "python"
    }
  },
  "cells": [
    {
      "cell_type": "markdown",
      "metadata": {
        "id": "view-in-github",
        "colab_type": "text"
      },
      "source": [
        "<a href=\"https://colab.research.google.com/github/rana-ozn/yeni-depo/blob/main/kitapl%C4%B1kuygulamas%C4%B1.ipynb\" target=\"_parent\"><img src=\"https://colab.research.google.com/assets/colab-badge.svg\" alt=\"Open In Colab\"/></a>"
      ]
    },
    {
      "cell_type": "code",
      "metadata": {
        "colab": {
          "base_uri": "https://localhost:8080/"
        },
        "id": "Eg1P-3Dd12ef",
        "outputId": "59d11d65-3cd5-4af5-e95b-05e1afe65e26"
      },
      "source": [
        "import os\n",
        "\n",
        "FILE_NAME = \"library.txt\"\n",
        "\n",
        "# TXT dosyası yoksa oluştur\n",
        "if not os.path.exists(FILE_NAME):\n",
        "    with open(FILE_NAME, \"w\") as f:\n",
        "        f.write(\"Sefiller|Victor Hugo|1862|Roman\\n\")\n",
        "        f.write(\"Suç ve Ceza|Fyodor Dostoyevski|1866|Roman\\n\")\n",
        "    print(\"📘 library.txt dosyası oluşturuldu.\")\n",
        "\n",
        "def menu():\n",
        "    print(\"\\n--- KÜTÜPHANE UYGULAMASI ---\")\n",
        "    print(\"1. Kitap Ekle\")\n",
        "    print(\"2. Kitapları Listele\")\n",
        "    print(\"3. Kitap Ara\")\n",
        "    print(\"4. Kitap Sil\")\n",
        "    print(\"5. Çıkış\")\n",
        "\n",
        "def kitap_ekle():\n",
        "    with open(FILE_NAME, \"a\") as f:\n",
        "        kitap_adi = input(\"Kitap adı: \")\n",
        "        yazar = input(\"Yazar: \")\n",
        "        yil = input(\"Yıl: \")\n",
        "        tur = input(\"Tür: \")\n",
        "        f.write(f\"{kitap_adi}|{yazar}|{yil}|{tur}\\n\")\n",
        "    print(\"✅ Kitap eklendi.\")\n",
        "\n",
        "def kitaplari_listele():\n",
        "    with open(FILE_NAME, \"r\") as f:\n",
        "        kitaplar = f.readlines()\n",
        "        if not kitaplar:\n",
        "            print(\"Henüz kayıtlı kitap yok.\")\n",
        "            return\n",
        "        print(\"\\n--- KAYITLI KİTAPLAR ---\")\n",
        "        for i, kitap in enumerate(kitaplar, 1):\n",
        "            kitap_adi, yazar, yil, tur = kitap.strip().split(\"|\")\n",
        "            print(f\"{i}. {kitap_adi} - {yazar} ({yil}) [{tur}]\")\n",
        "\n",
        "def kitap_ara():\n",
        "    kelime = input(\"Aranacak kelime: \").lower()\n",
        "    with open(FILE_NAME, \"r\") as f:\n",
        "        kitaplar = f.readlines()\n",
        "        bulunanlar = [k for k in kitaplar if kelime in k.lower()]\n",
        "        if not bulunanlar:\n",
        "            print(\"Hiçbir kitap bulunamadı.\")\n",
        "            return\n",
        "        print(\"\\n--- ARAMA SONUCU ---\")\n",
        "        for k in bulunanlar:\n",
        "            kitap_adi, yazar, yil, tur = k.strip().split(\"|\")\n",
        "            print(f\"{kitap_adi} - {yazar} ({yil}) [{tur}]\")\n",
        "\n",
        "def kitap_sil():\n",
        "    kitap_adi = input(\"Silinecek kitabın adı: \").lower()\n",
        "    with open(FILE_NAME, \"r\") as f:\n",
        "        kitaplar = f.readlines()\n",
        "    yeni_liste = [k for k in kitaplar if kitap_adi not in k.lower()]\n",
        "    with open(FILE_NAME, \"w\") as f:\n",
        "        f.writelines(yeni_liste)\n",
        "    print(\"🗑️ Kitap silindi (varsa).\")\n",
        "\n",
        "# Ana döngü\n",
        "while True:\n",
        "    menu()\n",
        "    secim = input(\"Seçiminiz: \")\n",
        "    if secim == \"1\":\n",
        "        kitap_ekle()\n",
        "    elif secim == \"2\":\n",
        "        kitaplari_listele()\n",
        "    elif secim == \"3\":\n",
        "        kitap_ara()\n",
        "    elif secim == \"4\":\n",
        "        kitap_sil()\n",
        "    elif secim == \"5\":\n",
        "        print(\"Uygulamadan çıkılıyor...\")\n",
        "        break\n",
        "    else:\n",
        "        print(\"Geçersiz seçim. Lütfen tekrar deneyin.\")\n",
        "\n",
        ""
      ],
      "execution_count": null,
      "outputs": [
        {
          "output_type": "stream",
          "name": "stdout",
          "text": [
            "\n",
            "--- KÜTÜPHANE UYGULAMASI ---\n",
            "1. Kitap Ekle\n",
            "2. Kitapları Listele\n",
            "3. Kitap Ara\n",
            "4. Kitap Sil\n",
            "5. Çıkış\n",
            "Seçiminiz: sefiller\n",
            "Geçersiz seçim. Lütfen tekrar deneyin.\n",
            "\n",
            "--- KÜTÜPHANE UYGULAMASI ---\n",
            "1. Kitap Ekle\n",
            "2. Kitapları Listele\n",
            "3. Kitap Ara\n",
            "4. Kitap Sil\n",
            "5. Çıkış\n",
            "Seçiminiz: suç ve ceza\n",
            "Geçersiz seçim. Lütfen tekrar deneyin.\n",
            "\n",
            "--- KÜTÜPHANE UYGULAMASI ---\n",
            "1. Kitap Ekle\n",
            "2. Kitapları Listele\n",
            "3. Kitap Ara\n",
            "4. Kitap Sil\n",
            "5. Çıkış\n"
          ]
        }
      ]
    }
  ]
}