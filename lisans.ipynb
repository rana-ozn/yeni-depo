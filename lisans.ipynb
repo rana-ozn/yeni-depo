{
  "nbformat": 4,
  "nbformat_minor": 0,
  "metadata": {
    "colab": {
      "provenance": [],
      "authorship_tag": "ABX9TyPk+w26eymWkjboD4uOtTAW",
      "include_colab_link": true
    },
    "kernelspec": {
      "name": "python3",
      "display_name": "Python 3"
    },
    "language_info": {
      "name": "python"
    }
  },
  "cells": [
    {
      "cell_type": "markdown",
      "metadata": {
        "id": "view-in-github",
        "colab_type": "text"
      },
      "source": [
        "<a href=\"https://colab.research.google.com/github/rana-ozn/yeni-depo/blob/main/lisans.ipynb\" target=\"_parent\"><img src=\"https://colab.research.google.com/assets/colab-badge.svg\" alt=\"Open In Colab\"/></a>"
      ]
    },
    {
      "cell_type": "code",
      "execution_count": null,
      "metadata": {
        "id": "dbiMXKsbF9MC"
      },
      "outputs": [],
      "source": []
    },
    {
      "cell_type": "code",
      "metadata": {
        "colab": {
          "base_uri": "https://localhost:8080/"
        },
        "id": "0edd35c2",
        "outputId": "680fe165-836d-4309-cdf7-fc2152c084a3"
      },
      "source": [
        "# creative_commons_basit.py\n",
        "\n",
        "# Kullanıcıdan lisans tipi al\n",
        "print(\"Creative Commons lisans türünü seç:\")\n",
        "print(\"1 - CC BY\")\n",
        "print(\"2 - CC BY-SA\")\n",
        "print(\"3 - CC BY-NC\")\n",
        "print(\"4 - CC BY-NC-SA\")\n",
        "print(\"5 - CC BY-ND\")\n",
        "print(\"6 - CC BY-NC-ND\")\n",
        "\n",
        "secim = input(\"Seçiminiz (1-6): \")\n",
        "\n",
        "# Seçime göre lisans bilgisi\n",
        "lisanslar = {\n",
        "    \"1\": (\"CC BY 4.0\", \"https://creativecommons.org/licenses/by/4.0/\"),\n",
        "    \"2\": (\"CC BY-SA 4.0\", \"https://creativecommons.org/licenses/by-sa/4.0/\"),\n",
        "    \"3\": (\"CC BY-NC 4.0\", \"https://creativecommons.org/licenses/by-nc/4.0/\"),\n",
        "    \"4\": (\"CC BY-NC-SA 4.0\", \"https://creativecommons.org/licenses/by-nc-sa/4.0/\"),\n",
        "    \"5\": (\"CC BY-ND 4.0\", \"https://creativecommons.org/licenses/by-nd/4.0/\"),\n",
        "    \"6\": (\"CC BY-NC-ND 4.0\", \"https://creativecommons.org/licenses/by-nc-nd/4.0/\")\n",
        "}\n",
        "\n",
        "# Seçilen lisansı al\n",
        "lisans_adi, lisans_linki = lisanslar.get(secim, (\"Bilinmiyor\", \"#\"))\n",
        "\n",
        "# HTML içeriğini oluştur\n",
        "html = f\"\"\"\n",
        "<!DOCTYPE html>\n",
        "<html lang=\"tr\">\n",
        "<head>\n",
        "    <meta charset=\"UTF-8\">\n",
        "    <title>Creative Commons Lisanslı Sayfa</title>\n",
        "</head>\n",
        "<body>\n",
        "    <h1>Bu çalışma {lisans_adi} lisansı ile paylaşılmaktadır.</h1>\n",
        "    <p>Daha fazla bilgi için:\n",
        "       <a href=\"{lisans_linki}\" target=\"_blank\">{lisans_linki}</a>\n",
        "    </p>\n",
        "</body>\n",
        "</html>\n",
        "\"\"\"\n",
        "\n",
        "# Dosyaya yaz\n",
        "with open(\"cc_lisans.html\", \"w\", encoding=\"utf-8\") as dosya:\n",
        "    dosya.write(html)\n",
        "\n",
        "print(\"✅ cc_lisans.html dosyası oluşturuldu!\")"
      ],
      "execution_count": 1,
      "outputs": [
        {
          "output_type": "stream",
          "name": "stdout",
          "text": [
            "Creative Commons lisans türünü seç:\n",
            "1 - CC BY\n",
            "2 - CC BY-SA\n",
            "3 - CC BY-NC\n",
            "4 - CC BY-NC-SA\n",
            "5 - CC BY-ND\n",
            "6 - CC BY-NC-ND\n",
            "Seçiminiz (1-6): 2\n",
            "✅ cc_lisans.html dosyası oluşturuldu!\n"
          ]
        }
      ]
    }
  ]
}