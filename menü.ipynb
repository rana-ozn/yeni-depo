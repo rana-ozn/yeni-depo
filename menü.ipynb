{
  "nbformat": 4,
  "nbformat_minor": 0,
  "metadata": {
    "colab": {
      "provenance": [],
      "authorship_tag": "ABX9TyO35YWNRSUbU1mM47ik/lNe",
      "include_colab_link": true
    },
    "kernelspec": {
      "name": "python3",
      "display_name": "Python 3"
    },
    "language_info": {
      "name": "python"
    }
  },
  "cells": [
    {
      "cell_type": "markdown",
      "metadata": {
        "id": "view-in-github",
        "colab_type": "text"
      },
      "source": [
        "<a href=\"https://colab.research.google.com/github/rana-ozn/yeni-depo/blob/main/men%C3%BC.ipynb\" target=\"_parent\"><img src=\"https://colab.research.google.com/assets/colab-badge.svg\" alt=\"Open In Colab\"/></a>"
      ]
    },
    {
      "cell_type": "code",
      "source": [],
      "metadata": {
        "id": "50H5ee8imR6T"
      },
      "execution_count": null,
      "outputs": []
    },
    {
      "cell_type": "code",
      "metadata": {
        "colab": {
          "base_uri": "https://localhost:8080/"
        },
        "id": "686fae26",
        "outputId": "26929127-168e-43d8-dbca-e63d9beb5ddf"
      },
      "source": [
        "# menu.py\n",
        "\n",
        "class Menu:\n",
        "    def __init__(self, title=\"Ana Menü\"):\n",
        "        self.title = title\n",
        "        self.options = []  # (menü adı, fonksiyon) çiftlerini tutar\n",
        "\n",
        "    def add_option(self, name, function):\n",
        "        \"\"\"Menüye yeni bir seçenek ekler.\"\"\"\n",
        "        self.options.append((name, function))\n",
        "\n",
        "    def show(self):\n",
        "        \"\"\"Menüyü gösterir ve kullanıcı seçimini yönetir.\"\"\"\n",
        "        while True:\n",
        "            print(f\"\\n--- {self.title} ---\")\n",
        "            for i, (name, _) in enumerate(self.options, start=1):\n",
        "                print(f\"{i}. {name}\")\n",
        "            print(f\"{len(self.options)+1}. Çıkış\")\n",
        "\n",
        "            secim = input(\"Seçiminiz: \")\n",
        "\n",
        "            if not secim.isdigit():\n",
        "                print(\"Lütfen geçerli bir sayı girin.\")\n",
        "                continue\n",
        "\n",
        "            secim = int(secim)\n",
        "            if secim == len(self.options) + 1:\n",
        "                print(\"Programdan çıkılıyor...\")\n",
        "                break\n",
        "            elif 1 <= secim <= len(self.options):\n",
        "                func = self.options[secim - 1][1]\n",
        "                func()\n",
        "            else:\n",
        "                print(\"Geçersiz seçim!\")# main.py\n",
        "\n",
        "\n",
        "# Örnek fonksiyonlar (gerçek uygulamada farklı fonksiyonlar olabilir)\n",
        "def kitap_ekle():\n",
        "    print(\"Kitap ekleme fonksiyonu çalıştı.\")\n",
        "\n",
        "def kitaplari_listele():\n",
        "    print(\"Kitap listeleme fonksiyonu çalıştı.\")\n",
        "\n",
        "def kitap_ara():\n",
        "    print(\"Kitap arama fonksiyonu çalıştı.\")\n",
        "\n",
        "# Menü oluşturma ve çalıştırma\n",
        "if __name__ == \"__main__\":\n",
        "    menu = Menu(\"📖 Kitaplık Uygulaması Menüsü\")\n",
        "    menu.add_option(\"Kitap Ekle\", kitap_ekle)\n",
        "    menu.add_option(\"Kitapları Listele\", kitaplari_listele)\n",
        "    menu.add_option(\"Kitap Ara\", kitap_ara)\n",
        "    menu.show()"
      ],
      "execution_count": null,
      "outputs": [
        {
          "output_type": "stream",
          "name": "stdout",
          "text": [
            "\n",
            "--- 📖 Kitaplık Uygulaması Menüsü ---\n",
            "1. Kitap Ekle\n",
            "2. Kitapları Listele\n",
            "3. Kitap Ara\n",
            "4. Çıkış\n",
            "Seçiminiz: suç ve ceza\n",
            "Lütfen geçerli bir sayı girin.\n",
            "\n",
            "--- 📖 Kitaplık Uygulaması Menüsü ---\n",
            "1. Kitap Ekle\n",
            "2. Kitapları Listele\n",
            "3. Kitap Ara\n",
            "4. Çıkış\n"
          ]
        }
      ]
    }
  ]
}